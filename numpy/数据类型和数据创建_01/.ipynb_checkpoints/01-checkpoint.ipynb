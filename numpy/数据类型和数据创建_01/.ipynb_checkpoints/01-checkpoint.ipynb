{
 "cells": [
  {
   "cell_type": "markdown",
   "metadata": {
    "collapsed": true
   },
   "source": [
    "### 常量的学习\n",
    "* numpy.nan 表示空值 nan =NaN=NAN"
   ]
  },
  {
   "cell_type": "markdown",
   "metadata": {},
   "source": []
  },
  {
   "cell_type": "markdown",
   "metadata": {},
   "source": [
    "\n"
   ]
  },
  {
   "cell_type": "code",
   "execution_count": 2,
   "metadata": {},
   "outputs": [
    {
     "name": "stdout",
     "output_type": "stream",
     "text": [
      "False\n",
      "[ 1.  1.  3. nan]\n",
      "[False False False  True]\n",
      "1\n"
     ]
    }
   ],
   "source": [
    "import numpy as np\n",
    "print(np.nan == np.nan) # False\n",
    "\n",
    "x = np.array([1,1,3,np.nan]) # 创建一个一维数组，其中有元素为空值\n",
    "print(x) #[1. 1. 3. nan ]\n",
    "y = np.isnan(x) #逐个判断数组中的元素是否为空  [False False False True]\n",
    "print(y)\n",
    "z = np.count_nonzero(y) #统计数组中非0元素的个数\n",
    "print(z) # 1"
   ]
  },
  {
   "cell_type": "markdown",
   "metadata": {},
   "source": [
    "### 数据类型\n",
    "为了方便科学计算，numpy中会定义一些数据类型如numpy.float32,numpy.int32等；具体可以官网参考\n",
    "* dtype:numpy中数值类型实际为dtype实列\n",
    "* 通过numpy.dtype可以获取数据中元素的数值类型"
   ]
  },
  {
   "cell_type": "code",
   "execution_count": null,
   "metadata": {},
   "outputs": [],
   "source": [
    "x = np.arange(0,6,1).reshape(2,3)\n",
    "print(np.dtype(x))\n",
    "y = np.arange(0,6,1,dtype=np.int32)\n",
    "print(np.dtype(y))"
   ]
  },
  {
   "cell_type": "markdown",
   "metadata": {},
   "source": [
    "### 时间日期和时间增量\n",
    "* datetime64 和 timedelta64 运算 \n",
    "* 日期相关的计算\n",
    "* datetime64 字符串转日期等\n",
    "* timedelta64 时间计算"
   ]
  },
  {
   "cell_type": "code",
   "execution_count": null,
   "metadata": {},
   "outputs": [],
   "source": [
    "begindates = np.datetime64('2020-07-10')\n",
    "enddates = np.datetime64('2020-07-20')\n",
    "a = np.busday_count(begindates, enddates)\n",
    "b = np.busday_count(enddates, begindates)\n",
    "print(a)\n",
    "print(b)"
   ]
  },
  {
   "cell_type": "markdown",
   "metadata": {},
   "source": [
    "### 数组的创建\n",
    "* numpy.array与asarray 一般可以通过python中的数组，列表等，通过numpy.array初始化\n",
    "** asarray修改原来的值\n",
    "* numpy.zeros,numpy.ones,numpy.emptys\n",
    "* numpy.arange(start,end,step)\n",
    "* numpy.linspace()\n",
    "* fromfunction:一般在绘制图像时会用到\n"
   ]
  },
  {
   "cell_type": "code",
   "execution_count": 5,
   "metadata": {},
   "outputs": [
    {
     "name": "stdout",
     "output_type": "stream",
     "text": [
      "[1 2 3 4 5 7] <class 'numpy.ndarray'>\n",
      "[1 2 3 4 5 7] <class 'numpy.ndarray'>\n",
      "[[1 2 3]\n",
      " [4 5 7]]\n",
      "[[[1 2 3]]\n",
      "\n",
      " [[4 5 7]]]\n"
     ]
    }
   ],
   "source": [
    "#通过np.arrray\n",
    "a = np.array([1,2,3,4,5,7]) # 列表\n",
    "b = np.array((1,2,3,4,5,7)) #元组\n",
    "print(a,type(a))\n",
    "print(b,type(b))\n",
    "\n",
    "print(a.reshape(2,3))#通过reshape，转成二维数组\n",
    "print(a.reshape(2,1,3)) ##通过reshape，2个1*3的\n",
    "\n",
    "\n"
   ]
  },
  {
   "cell_type": "code",
   "execution_count": null,
   "metadata": {},
   "outputs": [],
   "source": []
  }
 ],
 "metadata": {
  "kernelspec": {
   "display_name": "Python 3",
   "language": "python",
   "name": "python3"
  },
  "language_info": {
   "codemirror_mode": {
    "name": "ipython",
    "version": 3
   },
   "file_extension": ".py",
   "mimetype": "text/x-python",
   "name": "python",
   "nbconvert_exporter": "python",
   "pygments_lexer": "ipython3",
   "version": "3.6.5"
  }
 },
 "nbformat": 4,
 "nbformat_minor": 1
}
