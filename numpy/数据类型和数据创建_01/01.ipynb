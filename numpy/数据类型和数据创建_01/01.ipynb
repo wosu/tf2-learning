{
 "cells": [
  {
   "cell_type": "markdown",
   "metadata": {
    "collapsed": true
   },
   "source": [
    "### 常量的学习\n",
    "* numpy.nan 表示空值 nan =NaN=NAN"
   ]
  },
  {
   "cell_type": "code",
   "execution_count": 2,
   "metadata": {},
   "outputs": [
    {
     "name": "stdout",
     "output_type": "stream",
     "text": [
      "False\n",
      "[ 1.  1.  3. nan]\n",
      "[False False False  True]\n",
      "1\n"
     ]
    }
   ],
   "source": [
    "import numpy as np\n",
    "print(np.nan == np.nan) # False\n",
    "\n",
    "x = np.array([1,1,3,np.nan]) # 创建一个一维数组，其中有元素为空值\n",
    "print(x) #[1. 1. 3. nan ]\n",
    "y = np.isnan(x) #逐个判断数组中的元素是否为空  [False False False True]\n",
    "print(y)\n",
    "z = np.count_nonzero(y) #统计数组中非0元素的个数\n",
    "print(z) # 1"
   ]
  },
  {
   "cell_type": "markdown",
   "metadata": {},
   "source": [
    "### 数据类型\n",
    "为了方便科学计算，numpy中会定义一些数据类型如numpy.float32,numpy.int32等；具体可以官网参考\n",
    "* dtype:numpy中数值类型实际为dtype实列\n",
    "* 通过numpy.dtype可以获取数据中元素的数值类型"
   ]
  },
  {
   "cell_type": "code",
   "execution_count": 9,
   "metadata": {},
   "outputs": [
    {
     "name": "stdout",
     "output_type": "stream",
     "text": [
      "int32\n",
      "int32\n"
     ]
    }
   ],
   "source": [
    "x = np.arange(0,6,1).reshape(2,3)\n",
    "print(x.dtype)\n",
    "y = np.arange(0,6,1,dtype=np.int32)\n",
    "print(y.dtype)"
   ]
  },
  {
   "cell_type": "markdown",
   "metadata": {},
   "source": [
    "### 时间日期和时间增量\n",
    "* datetime64 和 timedelta64 运算 \n",
    "* 日期相关的计算\n",
    "* datetime64 字符串转日期等\n",
    "* timedelta64 时间计算"
   ]
  },
  {
   "cell_type": "code",
   "execution_count": 10,
   "metadata": {},
   "outputs": [
    {
     "name": "stdout",
     "output_type": "stream",
     "text": [
      "6\n",
      "-6\n"
     ]
    }
   ],
   "source": [
    "begindates = np.datetime64('2020-07-10')\n",
    "enddates = np.datetime64('2020-07-20')\n",
    "a = np.busday_count(begindates, enddates)\n",
    "b = np.busday_count(enddates, begindates)\n",
    "print(a)\n",
    "print(b)"
   ]
  },
  {
   "cell_type": "markdown",
   "metadata": {},
   "source": [
    "### 数组的创建\n",
    "* numpy.array与asarray 一般可以通过python中的数组，列表等，通过numpy.array初始化\n",
    "    * 一般array会新创建一个ndarray，将数据拷贝到新的ndarray中，而当asarray接收的ndarray时,且不修改原来的数据类型时，不会创建新的，所以原来的值修改‘\n",
    "    会导致随之修改\n",
    "* numpy.zeros,numpy.ones,numpy.emptys\n",
    "* numpy.arange(start,end,step)\n",
    "* numpy.linspace()\n",
    "* fromfunction:一般在绘制图像时会用到\n"
   ]
  },
  {
   "cell_type": "code",
   "execution_count": 60,
   "metadata": {},
   "outputs": [
    {
     "name": "stdout",
     "output_type": "stream",
     "text": [
      "[1 2 3 4 5 7] <class 'numpy.ndarray'>\n",
      "[1 2 3 4 5 7] <class 'numpy.ndarray'>\n",
      "[[1 2 3]\n",
      " [4 5 7]]\n",
      "[[[1 2 3]]\n",
      "\n",
      " [[4 5 7]]]\n",
      "[[1 2 3]\n",
      " [4 0 6]] <class 'numpy.ndarray'> int32\n",
      "[[1 2 3]\n",
      " [4 5 6]] <class 'numpy.ndarray'> int32\n",
      "[[1 2 3]\n",
      " [4 0 6]] <class 'numpy.ndarray'> int32\n",
      "[[1. 2. 3.]\n",
      " [4. 5. 6.]] <class 'numpy.ndarray'> float64\n",
      "[[0 1]\n",
      " [1 2]]\n",
      "[0. 0. 0. 0. 0.]\n",
      "[0. 0. 0. 0. 0.]\n",
      "[[0. 0. 0. 0.]\n",
      " [0. 0. 0. 0.]\n",
      " [0. 0. 0. 0.]]\n",
      "[[[0. 0. 0. 0.]\n",
      "  [0. 0. 0. 0.]\n",
      "  [0. 0. 0. 0.]\n",
      "  [0. 0. 0. 0.]]\n",
      "\n",
      " [[0. 0. 0. 0.]\n",
      "  [0. 0. 0. 0.]\n",
      "  [0. 0. 0. 0.]\n",
      "  [0. 0. 0. 0.]]]\n",
      "[0. 0. 0. 0. 0.]\n",
      "<class 'numpy.ndarray'> [[1.25272826e-311 7.55920438e-322 0.00000000e+000 0.00000000e+000]\n",
      " [1.69119330e-306 1.16096346e-028 1.04857803e-142 1.16467185e-028]\n",
      " [1.42646471e-153 4.43550427e-019 4.17985905e+222 1.43616552e+161]\n",
      " [4.08361127e+223 1.29038135e-057 1.06148061e+170 4.52745891e+257]\n",
      " [9.27777192e+242 2.69373275e+132 8.48939199e+136 3.63385226e-043]\n",
      " [6.19337450e-071 4.10123869e+223 8.45915361e-053 7.78045999e-143]]\n",
      "[[1. 0. 0.]\n",
      " [0. 1. 0.]]\n",
      "[7 7]\n",
      "[[7 7 7]\n",
      " [7 7 7]]\n",
      "[1.         1.44444444 1.88888889 2.33333333 2.77777778 3.22222222\n",
      " 3.66666667 4.11111111 4.55555556 5.        ]\n",
      "[1 4]\n",
      "[ 1.          3.16227766 10.        ]\n",
      "[[[0.37328264 0.98057698]\n",
      "  [0.4201576  0.21889844]\n",
      "  [0.22029762 0.12737508]]\n",
      "\n",
      " [[0.94605175 0.85559058]\n",
      "  [0.82237336 0.19558401]\n",
      "  [0.80210246 0.71105758]]]\n"
     ]
    }
   ],
   "source": [
    "#通过np.arrray\n",
    "a = np.array([1,2,3,4,5,7]) # 列表\n",
    "b = np.array((1,2,3,4,5,7)) #元组\n",
    "print(a,type(a))\n",
    "print(b,type(b))\n",
    "\n",
    "print(a.reshape(2,3))#通过reshape，转成二维数组\n",
    "print(a.reshape(2,1,3)) ##通过reshape，2个1*3的\n",
    "\n",
    "#np.asarray，及与array区别\n",
    "x = np.array([[1,2,3],[4,5,6]])\n",
    "y = np.array(x)\n",
    "z = np.asarray(x)\n",
    "w = np.asarray(x,dtype=np.float)\n",
    "x[1][1]=0\n",
    "print(x,type(x),x.dtype)\n",
    "print(y,type(y),y.dtype)\n",
    "print(z,type(z),z.dtype)#与x公有一个数据，指向同一份数据\n",
    "print(w,type(w),w.dtype) #w修改了原来x数据类型，所以重新创建一个ndarray,所以当x变化时，w不会随之改变\n",
    "\n",
    "\n",
    "# fromfunction函数，可以从函数中创建数组;在每个坐标轴上执行定义的函数\n",
    "# 在原始矩阵中，根据元素的（x,y）索引带入计算  比如（2，2）的矩阵\n",
    "def f(x,y):\n",
    "    return x*1+y \n",
    "x = np.fromfunction(f,(2,2),dtype=int) # (2,2)即数组shape 2*2的矩阵\n",
    "print(x)\n",
    "\n",
    "# ones,zeros,zeor_like一般在机器学习中初始化时，通常初始化为0，可以创建一个固定大小的初始矩阵\n",
    "# 同理ones和ones_like与zeros相同，只不过是创建全为1的ndarray\n",
    "# 而empty和empty_like则是创建一个随机的数组\n",
    "x1 = np.zeros((5,)) # (x,y)表示数组的shape\n",
    "x2 = np.zeros(5) # 创建一维数组时也可以这样\n",
    "x3 = np.zeros((3,4))\n",
    "x4 = np.zeros((2,4,4))\n",
    "print(x1)\n",
    "print(x2)\n",
    "print(x3)\n",
    "print(x4)\n",
    "#zero_like,创建一个与数组a相同shape的ndarray\n",
    "x5 = np.zeros_like(x2)\n",
    "print(x5)\n",
    "\n",
    "#empty\n",
    "y1= np.empty((6,4))\n",
    "print(type(y1),y1)\n",
    "\n",
    "\n",
    "# eye，对角线上为1，其他为0的数组\n",
    "#identity 返回一个对角线上为1的方阵\n",
    "#diag对角矩阵\n",
    "# full,full_lilke 常数数组，指定矩阵中元素的常数值\n",
    "z1 = np.eye(2,3)\n",
    "print(z1)\n",
    "x1 = np.full(2,7)\n",
    "x2 = np.full((2,3),7) #(2,3) shape  7:填充的值\n",
    "print(x1)\n",
    "print(x2)\n",
    "\n",
    "\n",
    "#arange(start,stop,step) a1=start a2=start + step ...an<stop-step  等差数列：an=a1 +(n-1)*d  所以n<=（stop-start）/d + 1\n",
    "#linspace(start,stop,num)返回start,stop中一定数量（num） 比如start=1 stop=5 num=10 则（5-1）/(10-1)\n",
    "#logspace(start,stop,num) 以对数刻度均匀分布\n",
    "#random.rand(d1,d2,d3)表示坐标轴，如(2,3)表示2行三列\n",
    "x1 = np.linspace(1,5,10)\n",
    "x2 = np.arange(1,5,3)\n",
    "x3 = np.logspace(0,1,3)\n",
    "x4 = np.random.rand(2,3,2)\n",
    "print(x1)\n",
    "print(x2)\n",
    "print(x3)\n",
    "print(x4)"
   ]
  },
  {
   "cell_type": "markdown",
   "metadata": {},
   "source": [
    "### 结构数组的创建\n",
    "* 类似sql数据中字段，以及excel中的列名\n",
    "* 字典定义数组结构 \n",
    "* 多个元组列表定义结构\n",
    "* 一般机器学习中每个特征都有对应的特征名称"
   ]
  },
  {
   "cell_type": "markdown",
   "metadata": {},
   "source": [
    "### 数组的属性\n",
    "* dtype：表示数组对象的元素类型，即数组中元素的类型\n",
    "* ndim:数组的维数（即轴的个数）如一维数组是1，二维数组是2，三维数组是3\n",
    "* shape:返回一个元组，表示数组的形状如（2，3）表示一个二维矩阵，2行3列  （2，2，3）则表示2个2*3的矩阵\n",
    "* size：数组中元素的总数如shape=（2，3）,则size=2*3=6 (2,2,3)则size=2*2*3=12\n",
    "* itemsize，以字节的形式返回数组中每一个元素的大小\n"
   ]
  },
  {
   "cell_type": "code",
   "execution_count": 70,
   "metadata": {},
   "outputs": [
    {
     "name": "stdout",
     "output_type": "stream",
     "text": [
      "2 136 8\n"
     ]
    }
   ],
   "source": [
    "print(a.size,a.itemsize,x4.itemsize)"
   ]
  },
  {
   "cell_type": "code",
   "execution_count": null,
   "metadata": {},
   "outputs": [],
   "source": []
  }
 ],
 "metadata": {
  "kernelspec": {
   "display_name": "Python 3",
   "language": "python",
   "name": "python3"
  },
  "language_info": {
   "codemirror_mode": {
    "name": "ipython",
    "version": 3
   },
   "file_extension": ".py",
   "mimetype": "text/x-python",
   "name": "python",
   "nbconvert_exporter": "python",
   "pygments_lexer": "ipython3",
   "version": "3.6.5"
  }
 },
 "nbformat": 4,
 "nbformat_minor": 1
}
