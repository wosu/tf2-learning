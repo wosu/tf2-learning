{
 "cells": [
  {
   "cell_type": "markdown",
   "metadata": {
    "collapsed": true
   },
   "source": [
    "*  对于一个多维数组，我们会需要获取数组中某些区域的元素，或某个指定位置的元素，那么这时需要通过索引进行定位\n",
    "\t* 一般通过shape思路，通过坐标轴进行定位，如对于二维数组(3,8)中，对元素进行定位索引从0开始 [1,2]即取第一行第二列那个元素\n",
    "\t* 当取区域时，则划定行范围和列范围，符号“:”表示剩下元素 2：则表示取3行或3列开始往后的   2：4则指定了范围\n",
    "\n",
    "* 数组的拷贝\n",
    "\t* 浅拷贝：引用，指向同一份数据，内存地址相同，当一个改变时，另外一个也会发生改变\n",
    "\t* 深拷贝：copy创建一份新的数据，与老的没有关系\n",
    " "
   ]
  },
  {
   "cell_type": "markdown",
   "metadata": {},
   "source": [
    "#### 视图与副本\n",
    "* 视图：即浅拷贝，指向的还是同一份数据，指向同一个内存地址\n",
    "* 副本：copy"
   ]
  },
  {
   "cell_type": "code",
   "execution_count": 2,
   "metadata": {},
   "outputs": [
    {
     "name": "stdout",
     "output_type": "stream",
     "text": [
      "before [1 2 3 4 5 6]\n",
      "[-1  2  3  4  5  6]\n",
      "[-1  2  3  4  5  6]\n",
      "[1 2 3 4 5 6]\n"
     ]
    }
   ],
   "source": [
    "import numpy as np\n",
    "x = np.array((1,2,3,4,5,6))\n",
    "print('before',x)\n",
    "y = x # 返回一个数据的视图，即当x发生改变时，y也会发生改变\n",
    "z = x.copy() # 创建一个新的数组，拷贝到数组中，x和z指向不同的数据，当x发生改变时，对z没有改变\n",
    "y[0]=-1\n",
    "\n",
    "print(x)#发生改变\n",
    "print(y)#发生改变\n",
    "print(z)#可以发现z没有发生改变"
   ]
  },
  {
   "cell_type": "markdown",
   "metadata": {},
   "source": [
    "#### 切片与索引\n",
    "* 切片只是返回原数组的视图，通过索引方式返回数组的部分\n",
    "* 索引：通过圈定坐标轴的范围，返回指定范围的元素\n",
    "    * 索引方式：([x,y,z]) x可以指定行范围，y,z类似\n",
    "    * x：start:stop:step 不包含stop\n",
    "    * 数组索引:传入索引值"
   ]
  },
  {
   "cell_type": "code",
   "execution_count": 24,
   "metadata": {},
   "outputs": [
    {
     "name": "stdout",
     "output_type": "stream",
     "text": [
      "<class 'numpy.ndarray'> int32 (3, 4) [[ 1  2  3  4]\n",
      " [ 6  7  8  9]\n",
      " [10 11 12 13]]\n",
      "[13]\n",
      "[[ 8  9]\n",
      " [12 13]]\n",
      "[[ 6  7  8  9]\n",
      " [10 11 12 13]]\n",
      "[[ 6  7  8  9]\n",
      " [10 11 12 13]]\n",
      "y5 [[6 7 8 9]]\n",
      "y6 [[6 8]]\n",
      "y7 [[6 8]]\n",
      "y8 [[ 6  7  8  9]\n",
      " [ 1  2  3  4]\n",
      " [10 11 12 13]]\n"
     ]
    },
    {
     "name": "stderr",
     "output_type": "stream",
     "text": [
      "d:\\program files\\python36\\lib\\site-packages\\ipykernel_launcher.py:12: FutureWarning: Using a non-tuple sequence for multidimensional indexing is deprecated; use `arr[tuple(seq)]` instead of `arr[seq]`. In the future this will be interpreted as an array index, `arr[np.array(seq)]`, which will result either in an error or a different result.\n",
      "  if sys.path[0] == '':\n"
     ]
    }
   ],
   "source": [
    "x = np.array([[1,2,3,4],[6,7,8,9],[10,11,12,13]])\n",
    "print(type(x),x.dtype,x.shape,x)\n",
    "\n",
    "y1 = x[2:,3] # 从第三行开始，取第4列的值，最后返回[13]\n",
    "y2 = x[1:,2:] # 从第2行开始，取第4列的值，最后返回[9,13]\n",
    "y3 = x[1:,]\n",
    "y4 = x[1:] # 后面的y轴可以省略\n",
    "y5 = x[1:2,0:5]\n",
    "y6 = x[1:2,0:3:2] # step=2\n",
    "y7 = x[1:2,0::2] # 没有设置stop值\n",
    "index = [[1,0,2]] #对应的行号\n",
    "y8 = x[index] # 数组索引\n",
    "print(y1)\n",
    "print(y2)\n",
    "print(y3)\n",
    "print(y4)\n",
    "print('y5',y5)\n",
    "print('y6',y6)\n",
    "print('y7',y7)\n",
    "print('y8',y8)"
   ]
  },
  {
   "cell_type": "code",
   "execution_count": null,
   "metadata": {},
   "outputs": [],
   "source": []
  }
 ],
 "metadata": {
  "kernelspec": {
   "display_name": "Python 3",
   "language": "python",
   "name": "python3"
  },
  "language_info": {
   "codemirror_mode": {
    "name": "ipython",
    "version": 3
   },
   "file_extension": ".py",
   "mimetype": "text/x-python",
   "name": "python",
   "nbconvert_exporter": "python",
   "pygments_lexer": "ipython3",
   "version": "3.6.5"
  }
 },
 "nbformat": 4,
 "nbformat_minor": 1
}
