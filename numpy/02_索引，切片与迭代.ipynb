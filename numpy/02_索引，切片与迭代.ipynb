{
 "cells": [
  {
   "cell_type": "markdown",
   "metadata": {
    "collapsed": true
   },
   "source": [
    "*  对于一个多维数组，我们会需要获取数组中某些区域的元素，或某个指定位置的元素，那么这时需要通过索引进行定位\n",
    "\t* 一般通过shape思路，通过坐标轴进行定位，如对于二维数组(3,8)中，对元素进行定位索引从0开始 [1,2]即取第一行第二列那个元素\n",
    "\t* 当取区域时，则划定行范围和列范围，符号“:”表示剩下元素 2：则表示取3行或3列开始往后的   2：4则指定了范围\n",
    "\n",
    "* 数组的拷贝\n",
    "\t* 浅拷贝：引用，指向同一份数据，内存地址相同，当一个改变时，另外一个也会发生改变\n",
    "\t* 深拷贝：copy创建一份新的数据，与老的没有关系\n",
    " "
   ]
  },
  {
   "cell_type": "markdown",
   "metadata": {},
   "source": [
    "#### 视图与副本\n",
    "* 视图：即浅拷贝，指向的还是同一份数据，指向同一个内存地址\n",
    "* 副本：copy"
   ]
  },
  {
   "cell_type": "code",
   "execution_count": 2,
   "metadata": {},
   "outputs": [
    {
     "name": "stdout",
     "output_type": "stream",
     "text": [
      "before [1 2 3 4 5 6]\n",
      "[-1  2  3  4  5  6]\n",
      "[-1  2  3  4  5  6]\n",
      "[1 2 3 4 5 6]\n"
     ]
    }
   ],
   "source": [
    "import numpy as np\n",
    "x = np.array((1,2,3,4,5,6))\n",
    "print('before',x)\n",
    "y = x # 返回一个数据的视图，即当x发生改变时，y也会发生改变\n",
    "z = x.copy() # 创建一个新的数组，拷贝到数组中，x和z指向不同的数据，当x发生改变时，对z没有改变\n",
    "y[0]=-1\n",
    "\n",
    "print(x)#发生改变\n",
    "print(y)#发生改变\n",
    "print(z)#可以发现z没有发生改变"
   ]
  },
  {
   "cell_type": "markdown",
   "metadata": {},
   "source": [
    "#### 切片与索引\n",
    "* 切片只是返回原数组的视图，通过索引方式返回数组的部分\n",
    "* 索引：通过圈定坐标轴的范围，返回指定范围的元素\n",
    "    * 索引方式：([x,y,z]) x可以指定行范围，y,z类似\n",
    "    * x：start:stop:step 不包含stop\n",
    "    * 数组索引:传入索引值\n",
    " * 通过切片返回只是原来ndarray的视图，指向内存中同一地址的数据"
   ]
  },
  {
   "cell_type": "code",
   "execution_count": 3,
   "metadata": {},
   "outputs": [
    {
     "name": "stdout",
     "output_type": "stream",
     "text": [
      "<class 'numpy.ndarray'> int32 (3, 4) [[ 1  2  3  4]\n",
      " [ 6  7  8  9]\n",
      " [10 11 12 13]]\n",
      "[13]\n",
      "[[ 8  9]\n",
      " [12 13]]\n",
      "[[ 6  7  8  9]\n",
      " [10 11 12 13]]\n",
      "[[ 6  7  8  9]\n",
      " [10 11 12 13]]\n",
      "y5 [[6 7 8 9]]\n",
      "y6 [[6 8]]\n",
      "y7 [[6 8]]\n",
      "y8 [[ 6  7  8  9]\n",
      " [ 1  2  3  4]\n",
      " [10 11 12 13]]\n"
     ]
    }
   ],
   "source": [
    "import numpy as np\n",
    "x = np.array([[1,2,3,4],[6,7,8,9],[10,11,12,13]])\n",
    "print(type(x),x.dtype,x.shape,x)\n",
    "\n",
    "y1 = x[2:,3] # 从第三行开始，取第4列的值，最后返回[13]\n",
    "y2 = x[1:,2:] # 从第2行开始，取第4列的值，最后返回[9,13]\n",
    "y3 = x[1:,]\n",
    "y4 = x[1:] # 后面的y轴可以省略\n",
    "y5 = x[1:2,0:5]\n",
    "y6 = x[1:2,0:3:2] # step=2\n",
    "y7 = x[1:2,0::2] # 没有设置stop值\n",
    "index = [1,0,2] #对应的行号\n",
    "y8 = x[index] # 数组索引\n",
    "print(y1)\n",
    "print(y2)\n",
    "print(y3)\n",
    "print(y4)\n",
    "print('y5',y5)\n",
    "print('y6',y6)\n",
    "print('y7',y7)\n",
    "print('y8',y8)"
   ]
  },
  {
   "cell_type": "markdown",
   "metadata": {},
   "source": [
    "#### 其他索引\n",
    "* dots索引：numpy允许使用...表示足够多的冒号来构建完整的索引列表，其实表示一种更简洁的写法\n",
    "* 布尔索引：通过布尔数组来索引目标数组，如判断数组中>5的数据等"
   ]
  },
  {
   "cell_type": "code",
   "execution_count": 17,
   "metadata": {},
   "outputs": [
    {
     "name": "stdout",
     "output_type": "stream",
     "text": [
      "<class 'numpy.ndarray'> 3 (2, 2, 3) [[[10 38 19]\n",
      "  [61 60 45]]\n",
      "\n",
      " [[74 53 78]\n",
      "  [ 6 63 40]]]\n",
      "bf x1 [[19 45]\n",
      " [78 40]]\n",
      "af x1 [[19 45]\n",
      " [ 0  0]]\n",
      "[[[10 38 19]\n",
      "  [61 60 45]]\n",
      "\n",
      " [[74 53  0]\n",
      "  [ 6 63  0]]]\n",
      "af2 x [[[10 38 -1]\n",
      "  [61 60 -1]]\n",
      "\n",
      " [[74 53 -1]\n",
      "  [ 6 63 -1]]]\n",
      "af2 x1 [[-1 -1]\n",
      " [-1 -1]]\n",
      "bool index [10 38 61 60 74 53  6 63]\n",
      "[[[ True  True False]\n",
      "  [ True  True False]]\n",
      "\n",
      " [[ True  True False]\n",
      "  [ True  True False]]]\n",
      "50\n",
      "25\n",
      "[ True  True  True  True  True  True  True  True  True  True  True  True\n",
      "  True  True  True  True  True  True  True  True  True  True  True  True\n",
      "  True False False False False False False False False False False False\n",
      " False False False False False False False False False False False False\n",
      " False False]\n",
      "[ True  True  True  True  True  True  True  True  True  True  True  True\n",
      "  True False False False False False False False False False False False\n",
      " False False False False False False False False False False False False\n",
      " False False False False False False False False False False False False\n",
      " False False]\n"
     ]
    },
    {
     "data": {
      "image/png": "[encoded data removed]",
      "text/plain": [
       "<Figure size 432x288 with 1 Axes>"
      ]
     },
     "metadata": {
      "needs_background": "light"
     },
     "output_type": "display_data"
    }
   ],
   "source": [
    "x = np.random.randint(1,100,[2,2,3]) # [2,2,3]指定了数组的shape 2个2*3的矩阵\n",
    "print(type(x),x.ndim,x.shape,x)\n",
    "\n",
    "x1 = x[...,2] # 第二列\n",
    "print('bf x1',x1)\n",
    "x1[1]=0 # 改变x1，原始x也会发生改变\n",
    "print('af x1',x1)\n",
    "print(x)\n",
    "x[...,2]=-1 # 此时x发生改变，x1也会发生改变，因为内存指向同一地址数据\n",
    "print('af2 x',x)\n",
    "print('af2 x1',x1)\n",
    "\n",
    "# 布尔索引\n",
    "y=x[x>5] #获取数组大于5的数据\n",
    "print('bool index',y)\n",
    "y=x>5 #判断数组中各元素是否>5，所以返回一个布尔矩阵\n",
    "print(y)\n",
    "\n",
    "\n",
    "import numpy as np\n",
    "\n",
    "import matplotlib.pyplot as plt\n",
    "\n",
    "x = np.linspace(0, 2 * np.pi, 50)\n",
    "y = np.sin(x)\n",
    "print(len(x))  # 50\n",
    "plt.plot(x, y)\n",
    "# plt.show()\n",
    "mask = y >= 0\n",
    "print(len(x[mask]))  # 25\n",
    "print(mask)\n",
    "\n",
    "\n",
    "plt.plot(x[mask], y[mask], 'bo')\n",
    "\n",
    "mask = np.logical_and(y >= 0, x <= np.pi / 2)\n",
    "print(mask)\n",
    "plt.plot(x[mask], y[mask], 'go')\n",
    "plt.show()\n"
   ]
  },
  {
   "cell_type": "markdown",
   "metadata": {},
   "source": [
    "#### 数组迭代\n",
    "* for方式：遍历数组,一种通过for方式按照shape逐层迭代\n",
    "* apply_along_axis(func1d, axis, arr) Apply a function to 1-D slices along the given axis\n",
    "    * axis表示指定遍历的坐标轴，arra即传入的数组，func1d即对指定的区域要进行的操作，如np.sum,np.mean\n",
    "    * func1d可以是自定义方法，传入的是一个一维的切片，即某一行或某一列\n",
    "    * apply_along_axis顾名思义：沿着坐标轴应用funcld函数"
   ]
  },
  {
   "cell_type": "code",
   "execution_count": 42,
   "metadata": {},
   "outputs": [
    {
     "name": "stdout",
     "output_type": "stream",
     "text": [
      "<class 'numpy.ndarray'> 12 3 (2, 2, 3) [[[18  6  4]\n",
      "  [14 16 11]]\n",
      "\n",
      " [[14 22 27]\n",
      "  [14 29 26]]]\n",
      "ele x <class 'numpy.int32'> 18\n",
      "ele x <class 'numpy.int32'> 6\n",
      "ele x <class 'numpy.int32'> 4\n",
      "ele x <class 'numpy.int32'> 14\n",
      "ele x <class 'numpy.int32'> 16\n",
      "ele x <class 'numpy.int32'> 11\n",
      "ele x <class 'numpy.int32'> 14\n",
      "ele x <class 'numpy.int32'> 22\n",
      "ele x <class 'numpy.int32'> 27\n",
      "ele x <class 'numpy.int32'> 14\n",
      "ele x <class 'numpy.int32'> 29\n",
      "ele x <class 'numpy.int32'> 26\n",
      "[18, 6, 4, 14, 16, 11, 14, 22, 27, 14, 29, 26]\n",
      "x2 [[14 22 27]\n",
      " [14 29 26]]\n",
      "x3 [28 51 53]\n",
      "x4 [63 69]\n",
      "ele x [14 14] x[0] 14 x[-1] 14\n",
      "ele x [22 29] x[0] 22 x[-1] 29\n",
      "ele x [27 26] x[0] 27 x[-1] 26\n",
      "x5 [21.  36.5 40. ]\n"
     ]
    }
   ],
   "source": [
    "x = np.random.randint(1,30,[2,2,3])\n",
    "print(type(x),x.size,x.ndim,x.shape,x)\n",
    "ele_x = []\n",
    "def iter_arra(x):\n",
    "    if type(x) is np.ndarray:\n",
    "        for x1 in x:\n",
    "            iter_arra(x1)\n",
    "           \n",
    "    else:\n",
    "        print('ele x',type(x),x)\n",
    "        ele_x.append(x)\n",
    "        return x\n",
    "iter_arra(x)\n",
    "print(ele_x)\n",
    "\n",
    "x2 = x[1,...]\n",
    "print('x2',x2) #通过dots方式索引\n",
    "x3 = np.apply_along_axis(np.sum,0,x2) # 表示对第每一列进行sum操作\n",
    "print('x3',x3)\n",
    "x4 = np.apply_along_axis(np.sum,1,x2) # 表示对第每一行进行sum操作\n",
    "print('x4',x4)\n",
    "\n",
    "#自定义func1d\n",
    "def my_func1d(x):\n",
    "    print('ele x',x,'x[0]',x[0],'x[-1]',x[-1])\n",
    "    return x[0] + x[-1] * 0.5\n",
    "x5 = np.apply_along_axis(my_func1d,0,x2)\n",
    "print('x5',x5)"
   ]
  },
  {
   "cell_type": "code",
   "execution_count": null,
   "metadata": {},
   "outputs": [],
   "source": []
  }
 ],
 "metadata": {
  "kernelspec": {
   "display_name": "Python 3",
   "language": "python",
   "name": "python3"
  },
  "language_info": {
   "codemirror_mode": {
    "name": "ipython",
    "version": 3
   },
   "file_extension": ".py",
   "mimetype": "text/x-python",
   "name": "python",
   "nbconvert_exporter": "python",
   "pygments_lexer": "ipython3",
   "version": "3.6.5"
  }
 },
 "nbformat": 4,
 "nbformat_minor": 1
}
