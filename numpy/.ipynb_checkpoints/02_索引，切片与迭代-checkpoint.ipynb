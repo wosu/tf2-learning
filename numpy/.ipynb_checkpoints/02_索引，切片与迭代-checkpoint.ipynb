{
 "cells": [
  {
   "cell_type": "markdown",
   "metadata": {
    "collapsed": true
   },
   "source": [
    "*  对于一个多维数组，我们会需要获取数组中某些区域的元素，或某个指定位置的元素，那么这时需要通过索引进行定位\n",
    "\t* 一般通过shape思路，通过坐标轴进行定位，如对于二维数组(3,8)中，对元素进行定位索引从0开始 [1,2]即取第一行第二列那个元素\n",
    "\t* 当取区域时，则划定行范围和列范围，符号“:”表示剩下元素 2：则表示取3行或3列开始往后的   2：4则指定了范围\n",
    "\n",
    "* 数组的拷贝\n",
    "\t* 浅拷贝：引用，指向同一份数据，内存地址相同，当一个改变时，另外一个也会发生改变\n",
    "\t* 深拷贝：copy创建一份新的数据，与老的没有关系\n",
    " "
   ]
  },
  {
   "cell_type": "markdown",
   "metadata": {},
   "source": [
    "#### 视图与副本\n",
    "* 视图：即浅拷贝，指向的还是同一份数据，指向同一个内存地址\n",
    "* 副本：copy"
   ]
  },
  {
   "cell_type": "code",
   "execution_count": 2,
   "metadata": {},
   "outputs": [
    {
     "name": "stdout",
     "output_type": "stream",
     "text": [
      "before [1 2 3 4 5 6]\n",
      "[-1  2  3  4  5  6]\n",
      "[-1  2  3  4  5  6]\n",
      "[1 2 3 4 5 6]\n"
     ]
    }
   ],
   "source": [
    "import numpy as np\n",
    "x = np.array((1,2,3,4,5,6))\n",
    "print('before',x)\n",
    "y = x # 返回一个数据的视图，即当x发生改变时，y也会发生改变\n",
    "z = x.copy() # 创建一个新的数组，拷贝到数组中，x和z指向不同的数据，当x发生改变时，对z没有改变\n",
    "y[0]=-1\n",
    "\n",
    "print(x)#发生改变\n",
    "print(y)#发生改变\n",
    "print(z)#可以发现z没有发生改变"
   ]
  },
  {
   "cell_type": "markdown",
   "metadata": {},
   "source": [
    "#### 切片与索引\n",
    "* 切片只是返回原数组的视图，通过索引方式返回数组的部分\n",
    "* 索引：通过圈定坐标轴的范围，返回指定范围的元素\n",
    "    * 索引方式：([x,y,z])"
   ]
  }
 ],
 "metadata": {
  "kernelspec": {
   "display_name": "Python 3",
   "language": "python",
   "name": "python3"
  },
  "language_info": {
   "codemirror_mode": {
    "name": "ipython",
    "version": 3
   },
   "file_extension": ".py",
   "mimetype": "text/x-python",
   "name": "python",
   "nbconvert_exporter": "python",
   "pygments_lexer": "ipython3",
   "version": "3.6.5"
  }
 },
 "nbformat": 4,
 "nbformat_minor": 1
}
