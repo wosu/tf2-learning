{
 "cells": [
  {
   "cell_type": "markdown",
   "metadata": {
    "collapsed": true
   },
   "source": [
    "### 数组操作\n",
    "* 由于一般在操作过程中，比如初始化创建数组时，可以先创建一个1维数组，通过reshape方式改变形状转成二维数组"
   ]
  },
  {
   "cell_type": "markdown",
   "metadata": {},
   "source": [
    "#### 更改数组形状\n",
    "* reshape(x,y,z...)表示各轴的大小,返回的时原来数组的一个视图，修改后会关联发生改变\n",
    "    * newshape=[rows，-1]，根据rows自动推断，列是多少，不用自己写清楚\n",
    "* arra.shape = [x,y,z]\n",
    "* numpy.ndarray.flat 将数组打平，转成一维数组，一般可以调用此方法，遍历数组中的每个元素\n",
    "* flatten 返回的是一个副本，所以不是指向同一个内存地址的数据\n"
   ]
  },
  {
   "cell_type": "code",
   "execution_count": 19,
   "metadata": {},
   "outputs": [
    {
     "name": "stdout",
     "output_type": "stream",
     "text": [
      "[3 1 6 4 7 7 9 2 9 1]\n",
      "x <class 'numpy.ndarray'> 1 (10,) [3 1 6 4 7 7 9 2 9 1]\n",
      "x.shape [[-1 -1]\n",
      " [-1 -1]\n",
      " [-1  7]\n",
      " [ 9  2]\n",
      " [ 9  1]]\n",
      "[[-1 -1 -1 -1 -1]\n",
      " [ 7  9  2  9  1]]\n",
      "x2 [[-1 -1 -1 -1 -1]\n",
      " [ 7  9  2  9  1]] x3 [[-1 -1 -1 -1 -1]\n",
      " [ 7  9  2  9  1]] x [[-1 -1]\n",
      " [-1 -1]\n",
      " [-1  7]\n",
      " [ 9  2]\n",
      " [ 9  1]]\n",
      "x3 [-1 -1 -1 -1 -1  7  9  2  9  1]\n",
      "x3 af [ 0 -1 -1 -1 -1  7  9  2  9  1] ori x [[-1 -1]\n",
      " [-1 -1]\n",
      " [-1  7]\n",
      " [ 9  2]\n",
      " [ 9  1]]\n"
     ]
    }
   ],
   "source": [
    "import numpy as np\n",
    "x = np.random.randint(1,10,10)\n",
    "print(x)\n",
    "print('x',type(x),x.ndim,x.shape,x)\n",
    "x2 = x.reshape(2,5) # 返回一个5*2的数组，x的视图\n",
    "x3 = x.reshape(2,-1) # 参数为-1时，会根据行数，自动推断列数，size=rows*cols\n",
    "x2[0]=-1 # x2发生改变，则x也会发生改变\n",
    "\n",
    "x.shape = [5,2] # x shape\n",
    "print('x.shape',x)\n",
    "print(x2)\n",
    "print('x2',x2,'x3',x3,'x',x)\n",
    "\n",
    "# flatten 返回副本，指向不同地址，所以改变，原来不会发生改变\n",
    "x3 = x.flatten()\n",
    "print('x3',x3)\n",
    "x3[0]= 0\n",
    "print('x3 af',x3,'ori x',x)"
   ]
  },
  {
   "cell_type": "markdown",
   "metadata": {},
   "source": [
    "#### 数组转置\n",
    "* transpose(arra)\n",
    "* arra.T\n",
    "* 两者基本没有区别，但是当数组维度<2时，transpose有返回"
   ]
  },
  {
   "cell_type": "code",
   "execution_count": 27,
   "metadata": {},
   "outputs": [
    {
     "name": "stdout",
     "output_type": "stream",
     "text": [
      "[0 1 2 3 4 5 6 7 8 9]\n",
      "x.T [0 1 2 3 4 5 6 7 8 9]\n",
      " np.transpose(x) [0 1 2 3 4 5 6 7 8 9]\n",
      "x.reshape(2,5) [[0 1 2 3 4]\n",
      " [5 6 7 8 9]]\n",
      "x3.T [[0 5]\n",
      " [1 6]\n",
      " [2 7]\n",
      " [3 8]\n",
      " [4 9]]\n",
      " np.transpose(x3) [[0 5]\n",
      " [1 6]\n",
      " [2 7]\n",
      " [3 8]\n",
      " [4 9]]\n"
     ]
    }
   ],
   "source": [
    "x = np.arange(0,10,1)\n",
    "print(x)\n",
    "print('x.T',x.T)\n",
    "x1 = np.transpose(x)\n",
    "print(' np.transpose(x)',x1)\n",
    "\n",
    "x3 = x.reshape(2,5)\n",
    "print('x.reshape(2,5)',x3)\n",
    "print('x3.T',x3.T)\n",
    "x4 = np.transpose(x3)\n",
    "print(' np.transpose(x3)',x4)"
   ]
  },
  {
   "cell_type": "markdown",
   "metadata": {},
   "source": [
    "#### 更改维度\n",
    "* 当需要修改数组维度时，如新增维度或者减少维度\n",
    "* numpy.newaxis\n",
    "* numpy.squeeze(arra,axis)：删除单维度\n",
    "    * arra：表示输入数组\n",
    "    * axis 用于指定需要删除的维度，必须是指定的单维度,即指定维度大小为1\n",
    "    * 在机器学习和深度学习中，通常算法的结果是可以表示向量的数组（即包含两对或以上的方括号形式[[]]），如果直接利用这个数组进行画图可能显示界面为空（见后面的示例）。我们可以利用squeeze()函数将表示向量的数组转换为秩为1的数组，这样利用 matplotlib 库函数画图时，就可以正常的显示结果了。\n",
    "    "
   ]
  },
  {
   "cell_type": "code",
   "execution_count": 45,
   "metadata": {},
   "outputs": [
    {
     "name": "stdout",
     "output_type": "stream",
     "text": [
      "x1 [[[ 0  1  2  3  4  5]]\n",
      "\n",
      " [[ 6  7  8  9 10 11]]]\n",
      "[[[[ 0  1  2  3  4  5]]\n",
      "\n",
      "  [[ 6  7  8  9 10 11]]]] (1, 2, 1, 6)\n",
      "x3 [[[ 0  1  2  3  4  5]]\n",
      "\n",
      " [[ 6  7  8  9 10 11]]]\n",
      "x4 [[ 0  1  2  3  4  5]\n",
      " [ 6  7  8  9 10 11]]\n"
     ]
    }
   ],
   "source": [
    "x = np.arange(0,12,1)\n",
    "x1 = x.reshape(2,1,-1)\n",
    "print('x1',x1)\n",
    "x2 = x1[np.newaxis] # shape:(1, 2, 5)增加了一个维度\n",
    "print(x2,x2.shape)\n",
    "x3 = np.squeeze(x2,0)\n",
    "x4 = np.squeeze(x1,1) # error cannot select an axis to squeeze out which has size not equal to one\n",
    "print('x3',x3)\n",
    "print('x4',x4)"
   ]
  },
  {
   "cell_type": "markdown",
   "metadata": {},
   "source": [
    "#### 数组组合\n",
    "* 将两个数组拼接到一起\n",
    "* 按照一定的方式，将数组拼接；最直接的方法，是沿着坐标轴将两个数组拼接，这时在该轴上，两个数组大小一样，比如按照行拼接，则行数一样\n",
    "* np.concatenate((a1,a2,a3...),axis=0,out=None) 拼接后，创建一个新的ndarray，和原来不指向同一个内存地址\n",
    "    * axis=0 默认是行拼接,axis不能大于原来数组的维度\n",
    "    * out:ndarray，用来将返回的结果放入out中，与返回新的ndarray指向同一内存地址"
   ]
  },
  {
   "cell_type": "code",
   "execution_count": 56,
   "metadata": {},
   "outputs": [
    {
     "name": "stdout",
     "output_type": "stream",
     "text": [
      "x1 [1 2 3] x2 [4 5 6] x3 [-2.  2.  3.  4.  5.  6.]\n",
      "[-2.  2.  3.  4.  5.  6.]\n"
     ]
    },
    {
     "ename": "AxisError",
     "evalue": "axis 1 is out of bounds for array of dimension 1",
     "traceback": [
      "\u001b[1;31m---------------------------------------------------------------------------\u001b[0m",
      "\u001b[1;31mAxisError\u001b[0m                                 Traceback (most recent call last)",
      "\u001b[1;32m<ipython-input-56-c6deede8046d>\u001b[0m in \u001b[0;36m<module>\u001b[1;34m\u001b[0m\n\u001b[0;32m      7\u001b[0m \u001b[0mprint\u001b[0m\u001b[1;33m(\u001b[0m\u001b[0mx4\u001b[0m\u001b[1;33m)\u001b[0m\u001b[1;33m\u001b[0m\u001b[0m\n\u001b[0;32m      8\u001b[0m \u001b[1;33m\u001b[0m\u001b[0m\n\u001b[1;32m----> 9\u001b[1;33m \u001b[0mx5\u001b[0m \u001b[1;33m=\u001b[0m\u001b[0mnp\u001b[0m\u001b[1;33m.\u001b[0m\u001b[0mconcatenate\u001b[0m\u001b[1;33m(\u001b[0m\u001b[1;33m[\u001b[0m\u001b[0mx1\u001b[0m\u001b[1;33m.\u001b[0m\u001b[0mT\u001b[0m\u001b[1;33m,\u001b[0m\u001b[0mx2\u001b[0m\u001b[1;33m.\u001b[0m\u001b[0mT\u001b[0m\u001b[1;33m]\u001b[0m\u001b[1;33m,\u001b[0m\u001b[0maxis\u001b[0m\u001b[1;33m=\u001b[0m\u001b[1;36m1\u001b[0m\u001b[1;33m,\u001b[0m \u001b[0mout\u001b[0m\u001b[1;33m=\u001b[0m\u001b[0mx4\u001b[0m\u001b[1;33m)\u001b[0m\u001b[1;33m\u001b[0m\u001b[0m\n\u001b[0m\u001b[0;32m     10\u001b[0m \u001b[0mprint\u001b[0m\u001b[1;33m(\u001b[0m\u001b[0mx5\u001b[0m\u001b[1;33m)\u001b[0m\u001b[1;33m\u001b[0m\u001b[0m\n",
      "\u001b[1;32m<__array_function__ internals>\u001b[0m in \u001b[0;36mconcatenate\u001b[1;34m(*args, **kwargs)\u001b[0m\n",
      "\u001b[1;31mAxisError\u001b[0m: axis 1 is out of bounds for array of dimension 1"
     ],
     "output_type": "error"
    }
   ],
   "source": [
    "x1 = np.array([1,2,3])\n",
    "x2 = np.array((4,5,6))\n",
    "x4 = np.zeros(6)\n",
    "x3 = np.concatenate([x1,x2],out=x4) # ([x1,x2])或((x1,x2))都可以\n",
    "x3[0]=-2\n",
    "print('x1',x1,'x2',x2,'x3',x3)\n",
    "print(x4)\n",
    "\n",
    "x5 =np.concatenate([x1.T,x2.T],axis=1, out=x4)\n",
    "print(x5)"
   ]
  },
  {
   "cell_type": "code",
   "execution_count": null,
   "metadata": {},
   "outputs": [],
   "source": []
  }
 ],
 "metadata": {
  "kernelspec": {
   "display_name": "Python 3",
   "language": "python",
   "name": "python3"
  },
  "language_info": {
   "codemirror_mode": {
    "name": "ipython",
    "version": 3
   },
   "file_extension": ".py",
   "mimetype": "text/x-python",
   "name": "python",
   "nbconvert_exporter": "python",
   "pygments_lexer": "ipython3",
   "version": "3.6.5"
  }
 },
 "nbformat": 4,
 "nbformat_minor": 1
}
