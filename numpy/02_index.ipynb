{
 "cells": [
  {
   "cell_type": "markdown",
   "metadata": {
    "collapsed": true
   },
   "source": [
    "*  对于一个多维数组，我们会需要获取数组中某些区域的元素，或某个指定位置的元素，那么这时需要通过索引进行定位\n",
    "\t* 一般通过shape思路，通过坐标轴进行定位，如对于二维数组(3,8)中，对元素进行定位索引从0开始 [1,2]即取第一行第二列那个元素\n",
    "\t* 当取区域时，则划定行范围和列范围，符号“:”表示剩下元素 2：则表示取3行或3列开始往后的   2：4则指定了范围\n",
    "\n",
    "* 数组的拷贝\n",
    "\t* 浅拷贝：引用，指向同一份数据，内存地址相同，当一个改变时，另外一个也会发生改变\n",
    "\t* 深拷贝：copy创建一份新的数据，与老的没有关系\n",
    " "
   ]
  },
  {
   "cell_type": "code",
   "execution_count": null,
   "metadata": {},
   "outputs": [],
   "source": []
  }
 ],
 "metadata": {
  "kernelspec": {
   "display_name": "Python 2",
   "language": "python",
   "name": "python2"
  },
  "language_info": {
   "codemirror_mode": {
    "name": "ipython",
    "version": 2
   },
   "file_extension": ".py",
   "mimetype": "text/x-python",
   "name": "python",
   "nbconvert_exporter": "python",
   "pygments_lexer": "ipython2",
   "version": "2.7.6"
  }
 },
 "nbformat": 4,
 "nbformat_minor": 0
}
