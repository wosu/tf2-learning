{
 "cells": [
  {
   "cell_type": "markdown",
   "metadata": {
    "collapsed": true
   },
   "source": [
    "##### 蘑菇分类数据集:./datas/mushrooms.csv\n",
    "* 下载路径：https://www.kaggle.com/uciml/mushroom-classification\n"
   ]
  },
  {
   "cell_type": "code",
   "execution_count": null,
   "metadata": {},
   "outputs": [],
   "source": [
    "import pandas as pd\n",
    "# 使用pandas读取csv文件\n",
    "from sklearn.preprocessing import LabelEncoder, StandardScaler\n",
    "\n",
    "mush_file = '../datas/mushrooms.csv'\n",
    "mush_df = pd.read_csv(mush_file)\n",
    "print(type(mush_df))\n",
    "mush_df.groupby('class')\n",
    "\n",
    "StandardScaler"
   ]
  }
 ],
 "metadata": {
  "kernelspec": {
   "display_name": "Python 2",
   "language": "python",
   "name": "python2"
  },
  "language_info": {
   "codemirror_mode": {
    "name": "ipython",
    "version": 2
   },
   "file_extension": ".py",
   "mimetype": "text/x-python",
   "name": "python",
   "nbconvert_exporter": "python",
   "pygments_lexer": "ipython2",
   "version": "2.7.6"
  }
 },
 "nbformat": 4,
 "nbformat_minor": 0
}
